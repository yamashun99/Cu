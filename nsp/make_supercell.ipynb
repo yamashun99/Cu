{
 "cells": [
  {
   "cell_type": "code",
   "execution_count": 1,
   "metadata": {},
   "outputs": [],
   "source": [
    "from ase import Atoms\n",
    "from ase.build import make_supercell\n",
    "from ase.io import write, read\n",
    "import numpy as np\n",
    "\n",
    "atoms = read(\"./Cu_mp-30_primitive.cif\")\n",
    "\n",
    "# Supercellの作成\n",
    "supercell_matrix = np.diag([3, 3, 3])  # Supercellのサイズを指定する行列\n",
    "supercell = make_supercell(atoms, supercell_matrix)\n",
    "\n",
    "# Quantum ESPRESSOの入力ファイルとして書き出し\n",
    "write(\"supercell.pw\", supercell, format=\"espresso-in\")\n",
    "write(\"supercell.cif\", supercell, format=\"cif\")"
   ]
  },
  {
   "cell_type": "code",
   "execution_count": null,
   "metadata": {},
   "outputs": [],
   "source": []
  }
 ],
 "metadata": {
  "kernelspec": {
   "display_name": "physicsenv",
   "language": "python",
   "name": "python3"
  },
  "language_info": {
   "codemirror_mode": {
    "name": "ipython",
    "version": 3
   },
   "file_extension": ".py",
   "mimetype": "text/x-python",
   "name": "python",
   "nbconvert_exporter": "python",
   "pygments_lexer": "ipython3",
   "version": "3.10.12"
  }
 },
 "nbformat": 4,
 "nbformat_minor": 2
}
